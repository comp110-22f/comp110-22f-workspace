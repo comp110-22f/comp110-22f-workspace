{
 "cells": [
  {
   "cell_type": "markdown",
   "metadata": {},
   "source": [
    "# Quanitfying Shakespeare\n",
    "\n",
    "In this notebook we will:\n",
    "\n",
    "1. Read all of Shakespeare's works into a list of strings \n",
    "2. Count the frequencies of letters used\n",
    "3. Visualize the resultus of the frequencies\n",
    "\n",
    "The dataset we will use is: <https://bit.ly/shakespeare-txt>"
   ]
  },
  {
   "cell_type": "code",
   "execution_count": 29,
   "metadata": {},
   "outputs": [
    {
     "name": "stdout",
     "output_type": "stream",
     "text": [
      "124455\n"
     ]
    }
   ],
   "source": [
    "from io import TextIOWrapper\n",
    "\n",
    "def read_lines(filename: str) -> list[str]:\n",
    "    \"\"\"Read every line from filename into a list.\"\"\"\n",
    "    open_csv: TextIOWrapper = open(filename, \"r\")\n",
    "    text: list[str] = []\n",
    "\n",
    "    for line in open_csv:\n",
    "        line = line.lower()\n",
    "        line = line.strip()\n",
    "        text.append(line)\n",
    "\n",
    "    open_csv.close()\n",
    "\n",
    "    return text\n",
    "\n",
    "shakespeare_text: list[str] = read_lines(\"./shakespeare.txt\")\n",
    "print(len(shakespeare_text))\n"
   ]
  },
  {
   "cell_type": "code",
   "execution_count": 30,
   "metadata": {},
   "outputs": [
    {
     "name": "stdout",
     "output_type": "stream",
     "text": [
      "'t' appears 329775 times\n",
      "'h' appears 236868 times\n",
      "'i' appears 253990 times\n",
      "'s' appears 248989 times\n",
      "'e' appears 447204 times\n",
      "'x' appears 5294 times\n",
      "'f' appears 80516 times\n",
      "'l' appears 170019 times\n",
      "'p' appears 58464 times\n",
      "'r' appears 237864 times\n",
      "'n' appears 243262 times\n",
      "'d' appears 149462 times\n",
      "'b' appears 61956 times\n",
      "'y' appears 94370 times\n",
      "'o' appears 314600 times\n",
      "'j' appears 4779 times\n",
      "'c' appears 88185 times\n",
      "'g' appears 68199 times\n",
      "'u' appears 128947 times\n",
      "'a' appears 289150 times\n",
      "'w' appears 89390 times\n",
      "'m' appears 111452 times\n",
      "'k' appears 35408 times\n",
      "'v' appears 37569 times\n",
      "'z' appears 1631 times\n",
      "'q' appears 3582 times\n"
     ]
    }
   ],
   "source": [
    "# Tally up characters \n",
    "\n",
    "# Goal: Define a funciton named tally\n",
    "# It will take two parameters:\n",
    "# 1. A refrence to a dictionary whose keys are str and values are int\n",
    "# 2. A str that refers to a key in the dictionary you are tallying\n",
    "\n",
    "# Logic:\n",
    "# If the str/key is in the dictionary, increase its value by one\n",
    "# Otherwise set the key's value to 1 in the dictionary\n",
    "# This function returns nothing\n",
    "\n",
    "def tally(frequency: dict[str, int], key: str) -> None:\n",
    "    \"\"\"Helper function for counting the number of instances given a key and dicitonary.\"\"\"\n",
    "    if key in frequency: \n",
    "        frequency[key] += 1\n",
    "    else: \n",
    "        frequency[key] = 1\n",
    "\n",
    "    return\n",
    "\n",
    "def count_letters(text: list[str]) -> dict[str, int]:\n",
    "    \"\"\"Counts the number of instances of a character and stores in dictionary. Then, returns the dictionary.\"\"\"\n",
    "    counting: dict[str, int] = {}\n",
    "    for word in text:\n",
    "        for character in word:\n",
    "            if character >= \"a\" and character <= \"z\":       # or you could just do char.isalpha()\n",
    "                tally(counting, character)\n",
    "\n",
    "    return counting\n",
    "\n",
    "char_count: dict[str, int] = count_letters(shakespeare_text)\n",
    "\n",
    "for each in char_count:\n",
    "    print(f\"'{each}' appears {char_count[each]} times\")\n",
    "    "
   ]
  },
  {
   "cell_type": "code",
   "execution_count": null,
   "metadata": {},
   "outputs": [],
   "source": []
  },
  {
   "cell_type": "code",
   "execution_count": 34,
   "metadata": {},
   "outputs": [
    {
     "name": "stdout",
     "output_type": "stream",
     "text": [
      "{'a': 289150, 'b': 61956, 'c': 88185, 'd': 149462, 'e': 447204, 'f': 80516, 'g': 68199, 'h': 236868, 'i': 253990, 'j': 4779, 'k': 35408, 'l': 170019, 'm': 111452, 'n': 243262, 'o': 314600, 'p': 58464, 'q': 3582, 'r': 237864, 's': 248989, 't': 329775, 'u': 128947, 'v': 37569, 'w': 89390, 'x': 5294, 'y': 94370, 'z': 1631}\n"
     ]
    }
   ],
   "source": [
    "items_in_dict: list[tuple[str, int]] = list(char_count.items())\n",
    "items_in_dict = sorted(items_in_dict)\n",
    "char_count_sorted: dict[str, int] = dict(items_in_dict)\n",
    "print(char_count_sorted)"
   ]
  },
  {
   "cell_type": "code",
   "execution_count": 35,
   "metadata": {},
   "outputs": [
    {
     "data": {
      "text/plain": [
       "<BarContainer object of 26 artists>"
      ]
     },
     "execution_count": 35,
     "metadata": {},
     "output_type": "execute_result"
    },
    {
     "data": {
      "image/png": "[encoded data removed]",
      "text/plain": [
       "<Figure size 432x288 with 1 Axes>"
      ]
     },
     "metadata": {
      "needs_background": "light"
     },
     "output_type": "display_data"
    }
   ],
   "source": [
    "# Make a bar chart\n",
    "\n",
    "from matplotlib import pyplot\n",
    "\n",
    "pyplot.title(\"Frequencies of Letters\")\n",
    "pyplot.xlabel(\"Letters\")\n",
    "pyplot.ylabel(\"Frequency\")\n",
    "\n",
    "labels: list[str] = list(char_count_sorted.keys())\n",
    "values: list[str] = list(char_count_sorted.values())\n",
    "\n",
    "pyplot.bar(labels, values)\n"
   ]
  }
 ],
 "metadata": {
  "kernelspec": {
   "display_name": "Python 3.10.6 64-bit",
   "language": "python",
   "name": "python3"
  },
  "language_info": {
   "codemirror_mode": {
    "name": "ipython",
    "version": 3
   },
   "file_extension": ".py",
   "mimetype": "text/x-python",
   "name": "python",
   "nbconvert_exporter": "python",
   "pygments_lexer": "ipython3",
   "version": "3.10.6"
  },
  "orig_nbformat": 4,
  "vscode": {
   "interpreter": {
    "hash": "e2f560769a1c988ba2630a9ee1b85652147e7cd1492f54a3afdc85e2c8b95a64"
   }
  }
 },
 "nbformat": 4,
 "nbformat_minor": 2
}
